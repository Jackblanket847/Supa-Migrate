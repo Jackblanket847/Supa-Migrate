{
  "nbformat": 4,
  "nbformat_minor": 0,
  "metadata": {
    "colab": {
      "provenance": [],
      "include_colab_link": true
    },
    "kernelspec": {
      "name": "python3",
      "display_name": "Python 3"
    },
    "language_info": {
      "name": "python"
    }
  },
  "cells": [
    {
      "cell_type": "markdown",
      "metadata": {
        "id": "view-in-github",
        "colab_type": "text"
      },
      "source": [
        "<a href=\"https://colab.research.google.com/github/mansueli/Supa-Migrate/blob/main/MongoDB_to_Supabase.ipynb\" target=\"_parent\"><img src=\"https://colab.research.google.com/assets/colab-badge.svg\" alt=\"Open In Colab\"/></a>"
      ]
    },
    {
      "cell_type": "markdown",
      "source": [
        "![Supabase](https://raw.githubusercontent.com/supabase/supabase/master/packages/common/assets/images/supabase-logo-wordmark--light.svg)\n",
        "\n"
      ],
      "metadata": {
        "id": "ul01YnnyiV0F"
      }
    },
    {
      "cell_type": "markdown",
      "source": [
        "#MongoDB to Supabase migration guide"
      ],
      "metadata": {
        "id": "FJ1MWneEiTHN"
      }
    },
    {
      "cell_type": "code",
      "execution_count": null,
      "metadata": {
        "colab": {
          "base_uri": "https://localhost:8080/"
        },
        "id": "b-wWw_8jiREd",
        "outputId": "d4c8d788-b17a-426a-d105-9b27a01ebff0"
      },
      "outputs": [
        {
          "output_type": "stream",
          "name": "stdout",
          "text": [
            "OK\n",
            "Installed Postgres\n"
          ]
        }
      ],
      "source": [
        "#@title #Installing the requirements: { display-mode: \"form\" }\n",
        "\n",
        "!sudo sh -c 'echo \"deb http://apt.postgresql.org/pub/repos/apt $(lsb_release -cs)-pgdg main\" > /etc/apt/sources.list.d/pgdg.list'\n",
        "!wget --quiet -O - https://www.postgresql.org/media/keys/ACCC4CF8.asc | sudo apt-key add -\n",
        "!sudo apt-get update &>log\n",
        "!sudo apt-get -y install postgresql &>log\n",
        "!sudo apt-get install -y golang\n",
        "%env GOPATH=/root/go\n",
        "%env PATH=$PATH:/usr/local/go/bin:$GOPATH/bin\n",
        "!go get -u github.com/compose/transporter"
      ]
    },
    {
      "cell_type": "markdown",
      "source": [
        "## Set the environment Variables:"
      ],
      "metadata": {
        "id": "M81eaqYTkMii"
      }
    },
    {
      "cell_type": "code",
      "source": [
        "#Source DB variables:\n",
        "%env HOST=\n",
        "%env USER=\n",
        "%env SOURCE_DB=\n",
        "%env PASSWORD=\n",
        "%env PORT=\n",
        "#Supabase variables:\n",
        "%env SUPABASE_URL=\n",
        "%env SUPABASE_PASSWORD="
      ],
      "metadata": {
        "id": "ZrXH3C65kRxk"
      },
      "execution_count": null,
      "outputs": []
    },
    {
      "cell_type": "code",
      "source": [
        "#@title #Running the migration: { display-mode: \"form\" }\n",
        "import os\n",
        "\n",
        "source_uri = f\"mongodb://{os.environ['USER']}:{os.environ['PASSWORD']}@{os.environ['HOST']}:{os.environ['PORT']}/{os.environ['SOURCE_DB']}\"\n",
        "sink_uri = f\"postgres://postgres:{os.environ['SUPABASE_PASSWORD']}@{os.environ['SUPABASE_URL']}:6543/postgres\"\n",
        "\n",
        "pipeline_js = f'''\n",
        "var source = mongodb({{\n",
        "  \"uri\": \"{source_uri}\"\n",
        "}})\n",
        "var sink = postgres({{\n",
        "  \"uri\": \"{sink_uri}\"\n",
        "}})\n",
        "t.Source(source).Save(sink)\n",
        "'''\n",
        "\n",
        "with open(\"pipeline.js\", \"w\") as f:\n",
        "    f.write(pipeline_js)\n",
        "\n",
        "# Run the migration\n",
        "!transporter run pipeline.js\n"
      ],
      "metadata": {
        "id": "76XQI9t3q6ut"
      },
      "execution_count": null,
      "outputs": []
    }
  ]
}