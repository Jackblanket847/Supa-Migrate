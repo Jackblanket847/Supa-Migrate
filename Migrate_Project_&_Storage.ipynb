{
  "nbformat": 4,
  "nbformat_minor": 0,
  "metadata": {
    "colab": {
      "provenance": [],
      "authorship_tag": "ABX9TyP45dcicr8W6h4KBFwqYYbI",
      "include_colab_link": true
    },
    "kernelspec": {
      "name": "python3",
      "display_name": "Python 3"
    },
    "language_info": {
      "name": "python"
    }
  },
  "cells": [
    {
      "cell_type": "markdown",
      "metadata": {
        "id": "view-in-github",
        "colab_type": "text"
      },
      "source": [
        "<a href=\"https://colab.research.google.com/github/mansueli/Supa-Migrate/blob/main/Migrate_Project_%26_Storage.ipynb\" target=\"_parent\"><img src=\"https://colab.research.google.com/assets/colab-badge.svg\" alt=\"Open In Colab\"/></a>"
      ]
    },
    {
      "cell_type": "markdown",
      "source": [
        "## Setting the Environment variables:"
      ],
      "metadata": {
        "id": "LL4Furs6VliO"
      }
    },
    {
      "cell_type": "code",
      "source": [
        "OLD_DB_URL='https://old_project.supabase.co'\n",
        "NEW_DB_URL='https://new_project.supabase.co'\n",
        "OLD_DB_PASS='secret_password_123'\n",
        "NEW_DB_PASS='more_secret_pass-123'\n",
        "OLD_SERVICE_KEY = 'eyJ0000J9.eyJQ.oPyK-LSECRET-aC1I'\n",
        "NEW_SERVICE_KEY = 'eyJ0000J9.eyJpSERVICE_ROLE.d4tffFJoc8iHsk_KEY'"
      ],
      "metadata": {
        "id": "_gS4xrZzVkl3"
      },
      "execution_count": 1,
      "outputs": []
    },
    {
      "cell_type": "markdown",
      "source": [],
      "metadata": {
        "id": "jlEeeUIoBecL"
      }
    },
    {
      "cell_type": "markdown",
      "source": [
        "## Installing PSQL, Downloading the scripts:"
      ],
      "metadata": {
        "id": "scZlpumHVbi6"
      }
    },
    {
      "cell_type": "code",
      "execution_count": 2,
      "metadata": {
        "colab": {
          "base_uri": "https://localhost:8080/"
        },
        "id": "WqBSjmZxVOn1",
        "outputId": "8ddcbd14-7732-4ff2-dcb6-ef66ba6e4532"
      },
      "outputs": [
        {
          "output_type": "stream",
          "name": "stdout",
          "text": [
            "OK\n"
          ]
        }
      ],
      "source": [
        "!sudo sh -c 'echo \"deb http://apt.postgresql.org/pub/repos/apt $(lsb_release -cs)-pgdg main\" > /etc/apt/sources.list.d/pgdg.list'\n",
        "!wget --quiet -O - https://www.postgresql.org/media/keys/ACCC4CF8.asc | sudo apt-key add -\n",
        "!sudo apt-get update &>log\n",
        "!sudo apt-get -y install postgresql &>log\n",
        "!wget https://raw.githubusercontent.com/mansueli/Supa-Migrate/main/migrate_project.sh &>log\n",
        "!pip install supabase &>log"
      ]
    },
    {
      "cell_type": "markdown",
      "source": [
        "## Running migration & moving storage objects:"
      ],
      "metadata": {
        "id": "giay7Rs5WkqD"
      }
    },
    {
      "cell_type": "code",
      "source": [
        "from supabase import create_client\n",
        "import os\n",
        "filedata = ''\n",
        "with open('migrate_project.sh', 'r') as file :\n",
        "  filedata = file.read()\n",
        "  filedata = filedata.replace('db.old_project_ref.supabase.co', OLD_DB_URL.replace(\"https://\",\"db.\"))\n",
        "  filedata = filedata.replace('db.new_project_ref.supabase.co', NEW_DB_URL.replace(\"https://\",\"db.\"))\n",
        "  filedata = filedata.replace('secret_password_here', OLD_DB_PASS)\n",
        "  filedata = filedata.replace('secret_new_password_here', NEW_DB_PASS)\n",
        "\n",
        "with open('migrate_project.sh', 'w') as file:\n",
        "  file.write(filedata)\n",
        "\n",
        "#Run the database migration script:\n",
        "!bash ./migrate_project.sh &>log\n",
        "\n",
        "#creating the clients for the old & new projects\n",
        "old_supabase_client = create_client(OLD_DB_URL, OLD_SERVICE_KEY)\n",
        "new_supabase_client = create_client(NEW_DB_URL, NEW_SERVICE_KEY)\n",
        "\n",
        "#Create all buckets\n",
        "buckets = old_supabase_client.storage().list_buckets()\n",
        "for bucket in buckets:\n",
        "    print(\"Copying objects from \"+bucket.name)\n",
        "    objects = old_supabase_client.storage().from_(bucket.name).list()\n",
        "    try:\n",
        "      new_supabase_client.storage().create_bucket(bucket.name)\n",
        "    except:\n",
        "      print(\"unable to create bucket\")\n",
        "    for obj in objects:\n",
        "        print(obj['name'])\n",
        "        try:\n",
        "          with open(obj['name'], 'wb+') as f:\n",
        "            res = old_supabase_client.storage().from_(bucket.name).download(obj['name'])\n",
        "            f.write(res)\n",
        "            f.close()\n",
        "        except Exception as e: \n",
        "            print(\"error downloading \"+ str(e))\n",
        "        try:\n",
        "          with open(obj['name'], 'rb+') as f:\n",
        "            res = new_supabase_client.storage().from_(bucket.name).upload(obj['name'], obj['name'])\n",
        "          # Delete file after uploading it\n",
        "          if os.path.exists(os.path.abspath(obj['name'])):\n",
        "              os.remove(os.path.abspath(obj['name']))\n",
        "        except Exception as e: \n",
        "          print(\"error uploading | \" + str(e))"
      ],
      "metadata": {
        "id": "hx7WV0riVyF5"
      },
      "execution_count": null,
      "outputs": []
    }
  ]
}