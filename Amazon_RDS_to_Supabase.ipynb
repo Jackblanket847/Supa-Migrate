{
  "nbformat": 4,
  "nbformat_minor": 0,
  "metadata": {
    "colab": {
      "provenance": [],
      "include_colab_link": true
    },
    "kernelspec": {
      "name": "python3",
      "display_name": "Python 3"
    },
    "language_info": {
      "name": "python"
    }
  },
  "cells": [
    {
      "cell_type": "markdown",
      "metadata": {
        "id": "view-in-github",
        "colab_type": "text"
      },
      "source": [
        "<a href=\"https://colab.research.google.com/github/mansueli/Supa-Migrate/blob/main/Amazon_RDS_to_Supabase.ipynb\" target=\"_parent\"><img src=\"https://colab.research.google.com/assets/colab-badge.svg\" alt=\"Open In Colab\"/></a>"
      ]
    },
    {
      "cell_type": "markdown",
      "source": [
        "![Supabase](https://raw.githubusercontent.com/supabase/supabase/master/packages/common/assets/images/supabase-logo-wordmark--light.svg)\n",
        "\n"
      ],
      "metadata": {
        "id": "ul01YnnyiV0F"
      }
    },
    {
      "cell_type": "markdown",
      "source": [
        "#Amazon RDS to Supabase migration guide"
      ],
      "metadata": {
        "id": "FJ1MWneEiTHN"
      }
    },
    {
      "cell_type": "code",
      "execution_count": null,
      "metadata": {
        "id": "b-wWw_8jiREd"
      },
      "outputs": [],
      "source": [
        "#@title Select the `Engine` of the RDS Database & install required resources. { display-mode: \"form\" }\n",
        "engine = 'MS SQL' #@param [\"Postgres\", \"MySQL\", \"MS SQL\",\"SQLite\"]\n",
        "\n",
        "if engine=='Postgres':\n",
        "  !sudo sh -c 'echo \"deb http://apt.postgresql.org/pub/repos/apt $(lsb_release -cs)-pgdg main\" > /etc/apt/sources.list.d/pgdg.list'\n",
        "  !wget --quiet -O - https://www.postgresql.org/media/keys/ACCC4CF8.asc | sudo apt-key add -\n",
        "  !sudo apt-get update &>log\n",
        "  !sudo apt-get -y install postgresql &>log\n",
        "  !wget https://raw.githubusercontent.com/mansueli/Supa-Migrate/main/migrate_postgres_project.sh &>log\n",
        "  !wget https://raw.githubusercontent.com/mansueli/Supa-Migrate/main/after.sql\n",
        "  !wget https://raw.githubusercontent.com/mansueli/Supa-Migrate/main/before.sql\n",
        "  print(\"Installed Postgres\")\n",
        "else:\n",
        "  !wget https://github.com/dimitri/pgloader/archive/refs/tags/v3.6.9.zip &>log\n",
        "  !apt-get install sbcl unzip libsqlite3-dev make curl gawk freetds-dev libzip-dev &>log\n",
        "  !unzip v3.6.9.zip -d pgloader &>log\n",
        "  !make -C ./pgloader/pgloader-3.6.9  &>log\n",
        "  !./pgloader/pgloader-3.6.9/build/bin/pgloader --help\n",
        "  print(\"Pgloader installed to migrated \"+engine+ \"to Supabase\")"
      ]
    },
    {
      "cell_type": "markdown",
      "source": [
        "## Set the environment Variables:"
      ],
      "metadata": {
        "id": "M81eaqYTkMii"
      }
    },
    {
      "cell_type": "code",
      "source": [
        "#Source DB variables:\n",
        "%env HOST=\n",
        "%env USER=\n",
        "%env SOURCE_DB=\n",
        "%env PASSWORD=\n",
        "%env PORT=\n",
        "#Supabase variables:\n",
        "%env SUPABASE_URL=\n",
        "%env SUPABASE_PASSWORD=\n",
        "%env SUPABASE_PORT=5432"
      ],
      "metadata": {
        "id": "ZrXH3C65kRxk"
      },
      "execution_count": null,
      "outputs": []
    },
    {
      "cell_type": "code",
      "source": [
        "#@title #Running the Migration: { display-mode: \"form\" }\n",
        "import os\n",
        "\n",
        "supabase_url = os.environ['SUPABASE_URL']\n",
        "if \"https://\" in supabase_url:\n",
        "  os.environ[\"SUPABASE_URL\"] = supabase_url.replace('https://','db')\n",
        "\n",
        "if engine=='MySQL':\n",
        "  !./pgloader/pgloader-3.6.9/build/bin/pgloader --before before.sql --after after.sql 'mysql://$USER:$PASSWORD@$HOST:$PORT/$SOURCE_DB' 'pgsql://postgres:$SUPABASE_PASSWORD@$SUPABASE_URL:$SUPABASE_PORT/postgres' #&>log\n",
        "if engine=='MS SQL':\n",
        "  !./pgloader/pgloader-3.6.9/build/bin/pgloader --before before.sql --after after.sql 'mssql://$USER:$PASSWORD@$HOST:$PORT/$SOURCE_DB' 'pgsql://postgres:$SUPABASE_PASSWORD@$SUPABASE_URL:$SUPABASE_PORT/postgres' #&>log\n",
        "if engine=='SQLite':\n",
        "  !./pgloader/pgloader-3.6.9/build/bin/pgloader --before before.sql --after after.sql 'sqllite://$USER:$PASSWORD@$HOST:$PORT/$SOURCE_DB' 'pgsql://postgres:$SUPABASE_PASSWORD@$SUPABASE_URL:$SUPABASE_PORT/postgres' #&>log\n",
        "if engine=='Postgres':\n",
        "  sender_db = os.environ['POSTGRES_DATABASE']\n",
        "  sender_user = os.environ['POSTGRES_USER']\n",
        "  sender_host = os.environ['POSTGRES_HOST']\n",
        "  sender_pgpass = os.environ['POSTGRES_PASSWORD']\n",
        "  filedata = ''\n",
        "  with open('migrate_postgres_project.sh', 'r') as file :\n",
        "    filedata = file.read()\n",
        "    filedata = filedata.replace('POSTGRES_ORIGIN_USERNAME', sender_user)\n",
        "    filedata = filedata.replace('POSTGRES_ORIGIN_PASSWORD', sender_pgpass.replace(\"PGPASSWORD=\",\"\"))\n",
        "    filedata = filedata.replace('POSTGRES_ORIGIN_DATABASE', sender_db)\n",
        "    filedata = filedata.replace('POSTGRES_ORIGIN_HOST', sender_host)\n",
        "    filedata = filedata.replace('SUPABASE_HOST', os.environ['SUPABASE_HOST'])\n",
        "    filedata = filedata.replace('SUPABASE_PASSWORD', os.environ['SUPABASE_PASSWORD'])\n",
        "\n",
        "  with open('migrate_postgres_project.sh', 'w') as file:\n",
        "    file.write(filedata)\n",
        "\n",
        "  !bash ./migrate_postgres_project.sh #&>log\n",
        "print(\"Migration completed\")"
      ],
      "metadata": {
        "id": "76XQI9t3q6ut"
      },
      "execution_count": null,
      "outputs": []
    }
  ]
}