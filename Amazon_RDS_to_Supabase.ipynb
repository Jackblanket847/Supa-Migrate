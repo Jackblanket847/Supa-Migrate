{
  "nbformat": 4,
  "nbformat_minor": 0,
  "metadata": {
    "colab": {
      "provenance": [],
      "include_colab_link": true
    },
    "kernelspec": {
      "name": "python3",
      "display_name": "Python 3"
    },
    "language_info": {
      "name": "python"
    }
  },
  "cells": [
    {
      "cell_type": "markdown",
      "metadata": {
        "id": "view-in-github",
        "colab_type": "text"
      },
      "source": [
        "<a href=\"https://colab.research.google.com/github/mansueli/Supa-Migrate/blob/main/Amazon_RDS_to_Supabase.ipynb\" target=\"_parent\"><img src=\"https://colab.research.google.com/assets/colab-badge.svg\" alt=\"Open In Colab\"/></a>"
      ]
    },
    {
      "cell_type": "markdown",
      "source": [
        "![Supabase](https://raw.githubusercontent.com/supabase/supabase/master/packages/common/assets/images/supabase-logo-wordmark--light.svg)\n",
        "\n"
      ],
      "metadata": {
        "id": "ul01YnnyiV0F"
      }
    },
    {
      "cell_type": "markdown",
      "source": [
        "#Amazon RDS to Supabase migration guide"
      ],
      "metadata": {
        "id": "FJ1MWneEiTHN"
      }
    },
    {
      "cell_type": "code",
      "execution_count": 1,
      "metadata": {
        "colab": {
          "base_uri": "https://localhost:8080/"
        },
        "id": "b-wWw_8jiREd",
        "outputId": "42567875-bbbb-4186-d6b9-72fb11b4d03e"
      },
      "outputs": [
        {
          "output_type": "stream",
          "name": "stdout",
          "text": [
            "./pgloader/pgloader-3.6.9/build/bin/pgloader [ option ... ] command-file ...\n",
            "./pgloader/pgloader-3.6.9/build/bin/pgloader [ option ... ] SOURCE TARGET\n",
            "  --help -h                       boolean  Show usage and exit.\n",
            "  --version -V                    boolean  Displays pgloader version and exit.\n",
            "  --quiet -q                      boolean  Be quiet\n",
            "  --verbose -v                    boolean  Be verbose\n",
            "  --debug -d                      boolean  Display debug level information.\n",
            "  --client-min-messages           string   Filter logs seen at the console (default: \"warning\")\n",
            "  --log-min-messages              string   Filter logs seen in the logfile (default: \"notice\")\n",
            "  --summary -S                    string   Filename where to copy the summary\n",
            "  --root-dir -D                   string   Output root directory. (default: #P\"/tmp/pgloader/\")\n",
            "  --upgrade-config -U             boolean  Output the command(s) corresponding to .conf file for\n",
            "                                           v2.x\n",
            "  --list-encodings -E             boolean  List pgloader known encodings and exit.\n",
            "  --logfile -L                    string   Filename where to send the logs.\n",
            "  --load-lisp-file -l             string   Read user code from files\n",
            "  --dry-run                       boolean  Only check database connections, don't load anything.\n",
            "  --on-error-stop                 boolean  Refrain from handling errors properly.\n",
            "  --no-ssl-cert-verification      boolean  Instruct OpenSSL to bypass verifying certificates.\n",
            "  --context -C                    string   Command Context Variables\n",
            "  --with                          string   Load options\n",
            "  --set                           string   PostgreSQL options\n",
            "  --field                         string   Source file fields specification\n",
            "  --cast                          string   Specific cast rules\n",
            "  --type                          string   Force input source type\n",
            "  --encoding                      string   Source expected encoding\n",
            "  --before                        string   SQL script to run before loading the data\n",
            "  --after                         string   SQL script to run after loading the data\n",
            "  --self-upgrade                  string   Path to pgloader newer sources\n",
            "  --regress                       boolean  Drive regression testing\n",
            "Pgloader installed to migrated MS SQLto Supabase\n"
          ]
        }
      ],
      "source": [
        "#@title Select the `Engine` of the RDS Database & install required resources. { display-mode: \"form\" }\n",
        "engine = 'MS SQL' #@param [\"Postgres\", \"MySQL\", \"MS SQL\",\"SQLite\"]\n",
        "\n",
        "if engine=='Postgres':\n",
        "  !sudo sh -c 'echo \"deb http://apt.postgresql.org/pub/repos/apt $(lsb_release -cs)-pgdg main\" > /etc/apt/sources.list.d/pgdg.list'\n",
        "  !wget --quiet -O - https://www.postgresql.org/media/keys/ACCC4CF8.asc | sudo apt-key add -\n",
        "  !sudo apt-get update &>log\n",
        "  !sudo apt-get -y install postgresql &>log\n",
        "  !wget https://raw.githubusercontent.com/mansueli/Supa-Migrate/main/migrate_postgres_project.sh &>log\n",
        "  !wget https://raw.githubusercontent.com/mansueli/Supa-Migrate/main/after.sql\n",
        "  !wget https://raw.githubusercontent.com/mansueli/Supa-Migrate/main/before.sql\n",
        "  print(\"Installed Postgres\")\n",
        "else:\n",
        "  !wget https://github.com/dimitri/pgloader/archive/refs/tags/v3.6.9.zip &>log\n",
        "  !apt-get install sbcl unzip libsqlite3-dev make curl gawk freetds-dev libzip-dev &>log\n",
        "  !unzip v3.6.9.zip -d pgloader &>log\n",
        "  !make -C ./pgloader/pgloader-3.6.9  &>log\n",
        "  !./pgloader/pgloader-3.6.9/build/bin/pgloader --help\n",
        "  print(\"Pgloader installed to migrated \"+engine+ \"to Supabase\")"
      ]
    },
    {
      "cell_type": "markdown",
      "source": [
        "## Set the environment Variables:"
      ],
      "metadata": {
        "id": "M81eaqYTkMii"
      }
    },
    {
      "cell_type": "code",
      "source": [
        "#Source DB variables:\n",
        "%env HOST=\n",
        "%env USER=\n",
        "%env SOURCE_DB=\n",
        "%env PASSWORD=\n",
        "%env PORT=\n",
        "#Supabase variables:\n",
        "%env SUPABASE_URL=\n",
        "%env SUPABASE_PASSWORD="
      ],
      "metadata": {
        "id": "ZrXH3C65kRxk"
      },
      "execution_count": null,
      "outputs": []
    },
    {
      "cell_type": "code",
      "source": [
        "#@title #Running the Migration: { display-mode: \"form\" }\n",
        "import os\n",
        "\n",
        "supabase_url = os.environ['SUPABASE_URL']\n",
        "if \"https://\" in supabase_url:\n",
        "  os.environ[\"SUPABASE_URL\"] = supabase_url.replace('https://','db')\n",
        "\n",
        "if engine=='MySQL':\n",
        "  !./pgloader/pgloader-3.6.9/build/bin/pgloader mysql://$USER:$PASSWORD@$HOST:$PORT/$SOURCE_DB pgsql://postgres:$SUPABASE_PASSWORD@$SUPABASE_URL:6543/postgres --before before.sql --after after.sql#&>log\n",
        "if engine=='MS SQL':\n",
        "  !./pgloader/pgloader-3.6.9/build/bin/pgloader mssql://$USER:$PASSWORD@$HOST:$PORT/$SOURCE_DB pgsql://postgres:$SUPABASE_PASSWORD@$SUPABASE_URL:6543/postgres --before before.sql --after after.sql #&>log\n",
        "if engine=='SQLite':\n",
        "  !./pgloader/pgloader-3.6.9/build/bin/pgloader sqllite://$USER:$PASSWORD@$HOST:$PORT/$SOURCE_DB pgsql://postgres:$SUPABASE_PASSWORD@$SUPABASE_URL:6543/postgres --before before.sql --after after.sql #&>log\n",
        "if engine=='Postgres':\n",
        "  sender_db = os.environ['POSTGRES_DATABASE']\n",
        "  sender_user = os.environ['POSTGRES_USER']\n",
        "  sender_host = os.environ['POSTGRES_HOST']\n",
        "  sender_pgpass = os.environ['POSTGRES_PASSWORD']\n",
        "  filedata = ''\n",
        "  with open('migrate_postgres_project.sh', 'r') as file :\n",
        "    filedata = file.read()\n",
        "    filedata = filedata.replace('POSTGRES_ORIGIN_USERNAME', sender_user)\n",
        "    filedata = filedata.replace('POSTGRES_ORIGIN_PASSWORD', sender_pgpass.replace(\"PGPASSWORD=\",\"\"))\n",
        "    filedata = filedata.replace('POSTGRES_ORIGIN_DATABASE', sender_db)\n",
        "    filedata = filedata.replace('POSTGRES_ORIGIN_HOST', sender_host)\n",
        "    filedata = filedata.replace('SUPABASE_HOST', os.environ['SUPABASE_HOST'])\n",
        "    filedata = filedata.replace('SUPABASE_PASSWORD', os.environ['SUPABASE_PASSWORD'])\n",
        "\n",
        "  with open('migrate_postgres_project.sh', 'w') as file:\n",
        "    file.write(filedata)\n",
        "\n",
        "  !bash ./migrate_postgres_project.sh #&>log\n",
        "print(\"Migration completed\")"
      ],
      "metadata": {
        "id": "76XQI9t3q6ut",
        "outputId": "2373bcc9-383b-43c6-8269-2d2a31851938",
        "colab": {
          "base_uri": "https://localhost:8080/",
          "height": 383
        }
      },
      "execution_count": 1,
      "outputs": [
        {
          "output_type": "error",
          "ename": "KeyError",
          "evalue": "ignored",
          "traceback": [
            "\u001b[0;31m---------------------------------------------------------------------------\u001b[0m",
            "\u001b[0;31mKeyError\u001b[0m                                  Traceback (most recent call last)",
            "\u001b[0;32m<ipython-input-1-82e052aaeeb6>\u001b[0m in \u001b[0;36m<cell line: 4>\u001b[0;34m()\u001b[0m\n\u001b[1;32m      2\u001b[0m \u001b[0;32mimport\u001b[0m \u001b[0mos\u001b[0m\u001b[0;34m\u001b[0m\u001b[0;34m\u001b[0m\u001b[0m\n\u001b[1;32m      3\u001b[0m \u001b[0;34m\u001b[0m\u001b[0m\n\u001b[0;32m----> 4\u001b[0;31m \u001b[0msupabase_url\u001b[0m \u001b[0;34m=\u001b[0m \u001b[0mos\u001b[0m\u001b[0;34m.\u001b[0m\u001b[0menviron\u001b[0m\u001b[0;34m[\u001b[0m\u001b[0;34m'SUPABASE_URL'\u001b[0m\u001b[0;34m]\u001b[0m\u001b[0;34m\u001b[0m\u001b[0;34m\u001b[0m\u001b[0m\n\u001b[0m\u001b[1;32m      5\u001b[0m \u001b[0;32mif\u001b[0m \u001b[0;34m\"https://\"\u001b[0m \u001b[0;32min\u001b[0m \u001b[0msupabase_url\u001b[0m\u001b[0;34m:\u001b[0m\u001b[0;34m\u001b[0m\u001b[0;34m\u001b[0m\u001b[0m\n\u001b[1;32m      6\u001b[0m   \u001b[0mos\u001b[0m\u001b[0;34m.\u001b[0m\u001b[0menviron\u001b[0m\u001b[0;34m[\u001b[0m\u001b[0;34m\"SUPABASE_URL\"\u001b[0m\u001b[0;34m]\u001b[0m \u001b[0;34m=\u001b[0m \u001b[0msupabase_url\u001b[0m\u001b[0;34m.\u001b[0m\u001b[0mreplace\u001b[0m\u001b[0;34m(\u001b[0m\u001b[0;34m'https://'\u001b[0m\u001b[0;34m,\u001b[0m\u001b[0;34m'db'\u001b[0m\u001b[0;34m)\u001b[0m\u001b[0;34m\u001b[0m\u001b[0;34m\u001b[0m\u001b[0m\n",
            "\u001b[0;32m/usr/lib/python3.10/os.py\u001b[0m in \u001b[0;36m__getitem__\u001b[0;34m(self, key)\u001b[0m\n\u001b[1;32m    678\u001b[0m         \u001b[0;32mexcept\u001b[0m \u001b[0mKeyError\u001b[0m\u001b[0;34m:\u001b[0m\u001b[0;34m\u001b[0m\u001b[0;34m\u001b[0m\u001b[0m\n\u001b[1;32m    679\u001b[0m             \u001b[0;31m# raise KeyError with the original key value\u001b[0m\u001b[0;34m\u001b[0m\u001b[0;34m\u001b[0m\u001b[0m\n\u001b[0;32m--> 680\u001b[0;31m             \u001b[0;32mraise\u001b[0m \u001b[0mKeyError\u001b[0m\u001b[0;34m(\u001b[0m\u001b[0mkey\u001b[0m\u001b[0;34m)\u001b[0m \u001b[0;32mfrom\u001b[0m \u001b[0;32mNone\u001b[0m\u001b[0;34m\u001b[0m\u001b[0;34m\u001b[0m\u001b[0m\n\u001b[0m\u001b[1;32m    681\u001b[0m         \u001b[0;32mreturn\u001b[0m \u001b[0mself\u001b[0m\u001b[0;34m.\u001b[0m\u001b[0mdecodevalue\u001b[0m\u001b[0;34m(\u001b[0m\u001b[0mvalue\u001b[0m\u001b[0;34m)\u001b[0m\u001b[0;34m\u001b[0m\u001b[0;34m\u001b[0m\u001b[0m\n\u001b[1;32m    682\u001b[0m \u001b[0;34m\u001b[0m\u001b[0m\n",
            "\u001b[0;31mKeyError\u001b[0m: 'SUPABASE_URL'"
          ]
        }
      ]
    }
  ]
}