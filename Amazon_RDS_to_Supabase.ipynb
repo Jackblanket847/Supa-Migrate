{
  "nbformat": 4,
  "nbformat_minor": 0,
  "metadata": {
    "colab": {
      "provenance": [],
      "include_colab_link": true
    },
    "kernelspec": {
      "name": "python3",
      "display_name": "Python 3"
    },
    "language_info": {
      "name": "python"
    }
  },
  "cells": [
    {
      "cell_type": "markdown",
      "metadata": {
        "id": "view-in-github",
        "colab_type": "text"
      },
      "source": [
        "<a href=\"https://colab.research.google.com/github/mansueli/Supa-Migrate/blob/main/Amazon_RDS_to_Supabase.ipynb\" target=\"_parent\"><img src=\"https://colab.research.google.com/assets/colab-badge.svg\" alt=\"Open In Colab\"/></a>"
      ]
    },
    {
      "cell_type": "markdown",
      "source": [
        "![Supabase](https://raw.githubusercontent.com/supabase/supabase/master/packages/common/assets/images/supabase-logo-wordmark--light.svg)\n",
        "\n"
      ],
      "metadata": {
        "id": "ul01YnnyiV0F"
      }
    },
    {
      "cell_type": "markdown",
      "source": [
        "#Amazon RDS to Supabase migration guide"
      ],
      "metadata": {
        "id": "FJ1MWneEiTHN"
      }
    },
    {
      "cell_type": "code",
      "execution_count": 1,
      "metadata": {
        "id": "b-wWw_8jiREd",
        "outputId": "b8d361ac-b80a-4a81-9c1c-59d1f9ec5bef",
        "colab": {
          "base_uri": "https://localhost:8080/"
        }
      },
      "outputs": [
        {
          "output_type": "stream",
          "name": "stdout",
          "text": [
            "Warning: apt-key is deprecated. Manage keyring files in trusted.gpg.d instead (see apt-key(8)).\n",
            "OK\n",
            "--2023-12-12 21:27:12--  https://raw.githubusercontent.com/mansueli/Supa-Migrate/main/after.sql\n",
            "Resolving raw.githubusercontent.com (raw.githubusercontent.com)... 185.199.108.133, 185.199.109.133, 185.199.110.133, ...\n",
            "Connecting to raw.githubusercontent.com (raw.githubusercontent.com)|185.199.108.133|:443... connected.\n",
            "HTTP request sent, awaiting response... 200 OK\n",
            "Length: 79 [text/plain]\n",
            "Saving to: ‘after.sql’\n",
            "\n",
            "after.sql           100%[===================>]      79  --.-KB/s    in 0s      \n",
            "\n",
            "2023-12-12 21:27:12 (3.03 MB/s) - ‘after.sql’ saved [79/79]\n",
            "\n",
            "--2023-12-12 21:27:12--  https://raw.githubusercontent.com/mansueli/Supa-Migrate/main/before.sql\n",
            "Resolving raw.githubusercontent.com (raw.githubusercontent.com)... 185.199.108.133, 185.199.109.133, 185.199.110.133, ...\n",
            "Connecting to raw.githubusercontent.com (raw.githubusercontent.com)|185.199.108.133|:443... connected.\n",
            "HTTP request sent, awaiting response... 200 OK\n",
            "Length: 74 [text/plain]\n",
            "Saving to: ‘before.sql’\n",
            "\n",
            "before.sql          100%[===================>]      74  --.-KB/s    in 0s      \n",
            "\n",
            "2023-12-12 21:27:12 (2.74 MB/s) - ‘before.sql’ saved [74/74]\n",
            "\n",
            "Installed Postgres\n"
          ]
        }
      ],
      "source": [
        "#@title Select the `Engine` of the RDS Database & install required resources. { display-mode: \"form\" }\n",
        "engine = 'Postgres' #@param [\"Postgres\", \"MySQL\", \"MS SQL\",\"SQLite\"]\n",
        "\n",
        "if engine=='Postgres':\n",
        "  !sudo sh -c 'echo \"deb http://apt.postgresql.org/pub/repos/apt $(lsb_release -cs)-pgdg main\" > /etc/apt/sources.list.d/pgdg.list'\n",
        "  !wget --quiet -O - https://www.postgresql.org/media/keys/ACCC4CF8.asc | sudo apt-key add -\n",
        "  !sudo apt-get update &>log\n",
        "  !sudo apt-get -y install postgresql &>log\n",
        "  !wget https://raw.githubusercontent.com/mansueli/Supa-Migrate/main/migrate_postgres_project.sh &>log\n",
        "  !wget https://raw.githubusercontent.com/mansueli/Supa-Migrate/main/after.sql\n",
        "  !wget https://raw.githubusercontent.com/mansueli/Supa-Migrate/main/before.sql\n",
        "  print(\"Installed Postgres\")\n",
        "else:\n",
        "  !wget https://github.com/dimitri/pgloader/archive/refs/tags/v3.6.9.zip &>log\n",
        "  !apt-get install sbcl unzip libsqlite3-dev make curl gawk freetds-dev libzip-dev &>log\n",
        "  !unzip v3.6.9.zip -d pgloader &>log\n",
        "  !make -C ./pgloader/pgloader-3.6.9  &>log\n",
        "  !./pgloader/pgloader-3.6.9/build/bin/pgloader --help\n",
        "  print(\"Pgloader installed to migrated \"+engine+ \"to Supabase\")"
      ]
    },
    {
      "cell_type": "markdown",
      "source": [
        "## Set the environment Variables:"
      ],
      "metadata": {
        "id": "M81eaqYTkMii"
      }
    },
    {
      "cell_type": "code",
      "source": [
        "#Source DB variables:\n",
        "%env HOST=duplicate-of-workweek-prod-for-testing.c4ffsv6b9ash.eu-west-1.rds.amazonaws.com\n",
        "%env USER=idevadmin\n",
        "%env SOURCE_DB=postgres\n",
        "%env PASSWORD=d9dGJhZgwB3kykQpqXGXeFYW9aU\n",
        "%env PORT=5432\n",
        "#Supabase variables:\n",
        "%env SUPABASE_URL=https://ytlqeucmuaongxxdneal.supabase.co\n",
        "%env SUPABASE_PASSWORD=d9dGJhZgwB3kykQpqXGXeFYW9aU\n",
        "%env SUPABASE_PORT=5432"
      ],
      "metadata": {
        "id": "ZrXH3C65kRxk",
        "outputId": "7d37924b-3fb6-4d45-b73d-7506dc23300c",
        "colab": {
          "base_uri": "https://localhost:8080/"
        }
      },
      "execution_count": 2,
      "outputs": [
        {
          "output_type": "stream",
          "name": "stdout",
          "text": [
            "env: HOST=duplicate-of-workweek-prod-for-testing.c4ffsv6b9ash.eu-west-1.rds.amazonaws.com\n",
            "env: USER=idevadmin\n",
            "env: SOURCE_DB=postgres\n",
            "env: PASSWORD=d9dGJhZgwB3kykQpqXGXeFYW9aU\n",
            "env: PORT=5432\n",
            "env: SUPABASE_URL=https://ytlqeucmuaongxxdneal.supabase.co\n",
            "env: SUPABASE_PASSWORD=d9dGJhZgwB3kykQpqXGXeFYW9aU\n",
            "env: SUPABASE_PORT=5432\n"
          ]
        }
      ]
    },
    {
      "cell_type": "code",
      "source": [
        "#@title #Running the Migration: { display-mode: \"form\" }\n",
        "import os\n",
        "\n",
        "supabase_url = os.environ['SUPABASE_URL']\n",
        "\n",
        "if engine=='MySQL':\n",
        "  !./pgloader/pgloader-3.6.9/build/bin/pgloader --before before.sql --after after.sql 'mysql://$USER:$PASSWORD@$HOST:$PORT/$SOURCE_DB' 'pgsql://postgres:$SUPABASE_PASSWORD@$SUPABASE_URL:$SUPABASE_PORT/postgres' #&>log\n",
        "if engine=='MS SQL':\n",
        "  !./pgloader/pgloader-3.6.9/build/bin/pgloader --before before.sql --after after.sql 'mssql://$USER:$PASSWORD@$HOST:$PORT/$SOURCE_DB' 'pgsql://postgres:$SUPABASE_PASSWORD@$SUPABASE_URL:$SUPABASE_PORT/postgres' #&>log\n",
        "if engine=='SQLite':\n",
        "  !./pgloader/pgloader-3.6.9/build/bin/pgloader --before before.sql --after after.sql 'sqllite://$USER:$PASSWORD@$HOST:$PORT/$SOURCE_DB' 'pgsql://postgres:$SUPABASE_PASSWORD@$SUPABASE_URL:$SUPABASE_PORT/postgres' #&>log\n",
        "if engine=='Postgres':\n",
        "  sender_db = os.environ['SOURCE_DB']\n",
        "  sender_user = os.environ['USER']\n",
        "  sender_host = os.environ['HOST']\n",
        "  sender_pgpass = os.environ['PASSWORD']\n",
        "  filedata = ''\n",
        "  with open('migrate_postgres_project.sh', 'r') as file :\n",
        "    filedata = file.read()\n",
        "    filedata = filedata.replace('POSTGRES_ORIGIN_USERNAME', sender_user)\n",
        "    filedata = filedata.replace('POSTGRES_ORIGIN_PASSWORD', sender_pgpass.replace(\"PGPASSWORD=\",\"\"))\n",
        "    filedata = filedata.replace('POSTGRES_ORIGIN_DATABASE', sender_db)\n",
        "    filedata = filedata.replace('POSTGRES_ORIGIN_HOST', sender_host)\n",
        "    filedata = filedata.replace('SUPABASE_HOST', os.environ[\"SUPABASE_URL\"].replace('https://','db.'))\n",
        "    filedata = filedata.replace('SUPABASE_PASSWORD', os.environ['SUPABASE_PASSWORD'])\n",
        "\n",
        "  with open('migrate_postgres_project.sh', 'w') as file:\n",
        "    file.write(filedata)\n",
        "\n",
        "  !bash ./migrate_postgres_project.sh #&>log\n",
        "print(\"Migration completed\")"
      ],
      "metadata": {
        "id": "76XQI9t3q6ut",
        "outputId": "acfad85e-f94f-4e51-d72b-fb1c4a731b27",
        "colab": {
          "base_uri": "https://localhost:8080/"
        }
      },
      "execution_count": 4,
      "outputs": [
        {
          "output_type": "stream",
          "name": "stdout",
          "text": [
            "pg_dump: error: connection to server at \"duplicate-of-workweek-prod-for-testing.c4ffsv6b9ash.eu-west-1.rds.amazonaws.com\" (54.78.105.231), port 5432 failed: FATAL:  password authentication failed for user \"idevadmin\"\n",
            "connection to server at \"duplicate-of-workweek-prod-for-testing.c4ffsv6b9ash.eu-west-1.rds.amazonaws.com\" (54.78.105.231), port 5432 failed: FATAL:  password authentication failed for user \"idevadmin\"\n",
            "pg_dump: error: options -c/--clean and -a/--data-only cannot be used together\n",
            "psql: error: could not translate host name \"db.ytlqeucmuaongxxdneal.supabase.co\" to address: Name or service not known\n",
            "psql: error: could not translate host name \"db.ytlqeucmuaongxxdneal.supabase.co\" to address: Name or service not known\n",
            "Migration completed\n"
          ]
        }
      ]
    }
  ]
}