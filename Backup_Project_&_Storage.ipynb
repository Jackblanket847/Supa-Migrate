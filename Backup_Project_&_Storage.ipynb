{
  "nbformat": 4,
  "nbformat_minor": 0,
  "metadata": {
    "colab": {
      "provenance": [],
      "include_colab_link": true
    },
    "kernelspec": {
      "name": "python3",
      "display_name": "Python 3"
    },
    "language_info": {
      "name": "python"
    }
  },
  "cells": [
    {
      "cell_type": "markdown",
      "metadata": {
        "id": "view-in-github",
        "colab_type": "text"
      },
      "source": [
        "<a href=\"https://colab.research.google.com/github/mansueli/Supa-Migrate/blob/main/Backup_Project_%26_Storage.ipynb\" target=\"_parent\"><img src=\"https://colab.research.google.com/assets/colab-badge.svg\" alt=\"Open In Colab\"/></a>"
      ]
    },
    {
      "cell_type": "markdown",
      "source": [
        "![Supabase](https://raw.githubusercontent.com/supabase/supabase/master/packages/common/assets/images/supabase-logo-wordmark--light.svg)\n",
        "\n"
      ],
      "metadata": {
        "id": "ygevkg_zCkmo"
      }
    },
    {
      "cell_type": "markdown",
      "source": [
        "## Setting the Environment variables:"
      ],
      "metadata": {
        "id": "LL4Furs6VliO"
      }
    },
    {
      "cell_type": "code",
      "source": [
        "OLD_DB_URL='https://old_project.supabase.co'\n",
        "OLD_DB_PASS='secret_password_123'\n",
        "OLD_SERVICE_KEY = 'eyJ0000J9.eyJQ.oPyK-LSECRET-aC1I'"
      ],
      "metadata": {
        "id": "_gS4xrZzVkl3"
      },
      "execution_count": null,
      "outputs": []
    },
    {
      "cell_type": "markdown",
      "source": [
        "## Installing PSQL, Downloading the scripts:"
      ],
      "metadata": {
        "id": "scZlpumHVbi6"
      }
    },
    {
      "cell_type": "code",
      "execution_count": null,
      "metadata": {
        "id": "WqBSjmZxVOn1"
      },
      "outputs": [],
      "source": [
        "!sudo sh -c 'echo \"deb http://apt.postgresql.org/pub/repos/apt $(lsb_release -cs)-pgdg main\" > /etc/apt/sources.list.d/pgdg.list'\n",
        "!wget --quiet -O - https://www.postgresql.org/media/keys/ACCC4CF8.asc | sudo apt-key add -\n",
        "!sudo apt-get update &>log\n",
        "!sudo apt-get -y install postgresql &>log\n",
        "!wget https://raw.githubusercontent.com/mansueli/Supa-Migrate/main/backup_database.sh &>log\n",
        "!pip install supabase &>log"
      ]
    },
    {
      "cell_type": "markdown",
      "source": [
        "## Running migration & moving storage objects:"
      ],
      "metadata": {
        "id": "giay7Rs5WkqD"
      }
    },
    {
      "cell_type": "code",
      "source": [
        "from supabase import create_client\n",
        "from google.colab import files\n",
        "import os\n",
        "filedata = ''\n",
        "with open('backup_database.sh', 'r') as file :\n",
        "  filedata = file.read()\n",
        "  filedata = filedata.replace('db.old_project_ref.supabase.co', OLD_DB_URL.replace(\"https://\",\"db.\"))\n",
        "  filedata = filedata.replace('secret_password_here', OLD_DB_PASS)\n",
        "\n",
        "with open('backup_database.sh', 'w') as file:\n",
        "  file.write(filedata)\n",
        "\n",
        "#Run the database migration script:\n",
        "!bash ./backup_database.sh &>log"
      ],
      "metadata": {
        "id": "hx7WV0riVyF5"
      },
      "execution_count": null,
      "outputs": []
    },
    {
      "cell_type": "markdown",
      "source": [
        "## Downloading Storage objects:"
      ],
      "metadata": {
        "id": "5aprdk38Z3vg"
      }
    },
    {
      "cell_type": "code",
      "source": [
        "#creating the clients for the old & new projects\n",
        "old_client = create_client(OLD_DB_URL, OLD_SERVICE_KEY)\n",
        "\n",
        "#Create all buckets\n",
        "# Function to recursively copy files and directories\n",
        "def copy_files(old_client, bucket_name, path):\n",
        "    objects = old_client.storage.from_(bucket_name).list(path=path)\n",
        "\n",
        "    for obj in objects:\n",
        "        if obj['metadata'] is None:  # It's a directory\n",
        "            subdirectory = os.path.join(path, obj['name'])\n",
        "            # Create the directory if it doesn't exist\n",
        "            if not os.path.exists(subdirectory):\n",
        "                os.makedirs(subdirectory)\n",
        "            copy_files(old_client, bucket_name, subdirectory)\n",
        "        else:\n",
        "            try:\n",
        "                print(f\"Downloading {path}/{obj['name']}\")\n",
        "                # Download file\n",
        "                download_path = os.path.join(path, obj['name'])\n",
        "                with open(download_path, 'wb') as f:\n",
        "                    res = old_client.storage.from_(bucket_name).download(f\"{path}/{obj['name']}\")\n",
        "                    f.write(res)\n",
        "            except Exception as e:\n",
        "                print(\"Error: \", e)\n",
        "\n",
        "#Create all buckets\n",
        "buckets = old_client.storage.list_buckets()\n",
        "for bucket in buckets:\n",
        "    print(\"Copying objects from \"+bucket.name)\n",
        "    objects = old_client.storage.from_(bucket.name).list()\n",
        "    try:\n",
        "      copy_files(old_client, bucket.name, \"\")\n",
        "    except Exception as e:\n",
        "      print(\"\\n---\\nAn error happened\" + str(e))\n",
        "    finally:\n",
        "      copy_files(old_client, bucket.name, \"\")\n"
      ],
      "metadata": {
        "id": "AJp6LWe6Z3Me"
      },
      "execution_count": null,
      "outputs": []
    }
  ]
}