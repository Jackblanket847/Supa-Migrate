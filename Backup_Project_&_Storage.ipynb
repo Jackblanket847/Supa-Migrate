{
  "nbformat": 4,
  "nbformat_minor": 0,
  "metadata": {
    "colab": {
      "provenance": [],
      "authorship_tag": "ABX9TyMxq/yGRPVME2sQmOC2FN3k",
      "include_colab_link": true
    },
    "kernelspec": {
      "name": "python3",
      "display_name": "Python 3"
    },
    "language_info": {
      "name": "python"
    }
  },
  "cells": [
    {
      "cell_type": "markdown",
      "metadata": {
        "id": "view-in-github",
        "colab_type": "text"
      },
      "source": [
        "<a href=\"https://colab.research.google.com/github/mansueli/Supa-Migrate/blob/main/Backup_Project_%26_Storage.ipynb\" target=\"_parent\"><img src=\"https://colab.research.google.com/assets/colab-badge.svg\" alt=\"Open In Colab\"/></a>"
      ]
    },
    {
      "cell_type": "markdown",
      "source": [
        "![Supabase](https://raw.githubusercontent.com/supabase/supabase/master/packages/common/assets/images/supabase-logo-wordmark--light.svg)\n",
        "\n"
      ],
      "metadata": {
        "id": "ygevkg_zCkmo"
      }
    },
    {
      "cell_type": "markdown",
      "source": [
        "## Setting the Environment variables:"
      ],
      "metadata": {
        "id": "LL4Furs6VliO"
      }
    },
    {
      "cell_type": "code",
      "source": [
        "OLD_DB_URL='https://old_project.supabase.co'\n",
        "OLD_DB_PASS='secret_password_123'\n",
        "OLD_SERVICE_KEY = 'eyJ0000J9.eyJQ.oPyK-LSECRET-aC1I'"
      ],
      "metadata": {
        "id": "_gS4xrZzVkl3"
      },
      "execution_count": 1,
      "outputs": []
    },
    {
      "cell_type": "markdown",
      "source": [
        "## Installing PSQL, Downloading the scripts:"
      ],
      "metadata": {
        "id": "scZlpumHVbi6"
      }
    },
    {
      "cell_type": "code",
      "execution_count": null,
      "metadata": {
        "colab": {
          "base_uri": "https://localhost:8080/"
        },
        "id": "WqBSjmZxVOn1",
        "outputId": "8ddcbd14-7732-4ff2-dcb6-ef66ba6e4532"
      },
      "outputs": [
        {
          "output_type": "stream",
          "name": "stdout",
          "text": [
            "OK\n"
          ]
        }
      ],
      "source": [
        "!sudo sh -c 'echo \"deb http://apt.postgresql.org/pub/repos/apt $(lsb_release -cs)-pgdg main\" > /etc/apt/sources.list.d/pgdg.list'\n",
        "!wget --quiet -O - https://www.postgresql.org/media/keys/ACCC4CF8.asc | sudo apt-key add -\n",
        "!sudo apt-get update &>log\n",
        "!sudo apt-get -y install postgresql &>log\n",
        "!wget https://raw.githubusercontent.com/mansueli/Supa-Migrate/main/backup_database.sh &>log\n",
        "!pip install supabase &>log"
      ]
    },
    {
      "cell_type": "markdown",
      "source": [
        "## Running migration & moving storage objects:"
      ],
      "metadata": {
        "id": "giay7Rs5WkqD"
      }
    },
    {
      "cell_type": "code",
      "source": [
        "from supabase import create_client\n",
        "from google.colab import files\n",
        "import os\n",
        "filedata = ''\n",
        "with open('backup_database.sh', 'r') as file :\n",
        "  filedata = file.read()\n",
        "  filedata = filedata.replace('db.old_project_ref.supabase.co', OLD_DB_URL.replace(\"https://\",\"db.\"))\n",
        "  filedata = filedata.replace('secret_password_here', OLD_DB_PASS)\n",
        "\n",
        "with open('backup_database.sh', 'w') as file:\n",
        "  file.write(filedata)\n",
        "\n",
        "#Run the database migration script:\n",
        "!bash ./backup_database.sh &>log\n",
        "\n",
        "#creating the clients for the old & new projects\n",
        "old_supabase_client = create_client(OLD_DB_URL, OLD_SERVICE_KEY)\n",
        "\n",
        "#Create all buckets\n",
        "buckets = old_supabase_client.storage().list_buckets()\n",
        "for bucket in buckets:\n",
        "    print(\"Copying objects from \"+bucket.name)\n",
        "    objects = old_supabase_client.storage().from_(bucket.name).list()\n",
        "    for obj in objects:\n",
        "        print(obj['name'])\n",
        "        try:\n",
        "          with open(obj['name'], 'wb+') as f:\n",
        "            res = old_supabase_client.storage().from_(bucket.name).download(obj['name'])\n",
        "            f.write(res)\n",
        "            f.close()\n",
        "        except Exception as e: \n",
        "            print(\"error downloading \"+ str(e))\n",
        "!zip backup.zip -d . -x log\n",
        "files.download('backup.zip') "
      ],
      "metadata": {
        "id": "hx7WV0riVyF5"
      },
      "execution_count": null,
      "outputs": []
    }
  ]
}