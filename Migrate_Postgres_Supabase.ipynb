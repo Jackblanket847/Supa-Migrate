{
  "nbformat": 4,
  "nbformat_minor": 0,
  "metadata": {
    "colab": {
      "provenance": [],
      "include_colab_link": true
    },
    "kernelspec": {
      "name": "python3",
      "display_name": "Python 3"
    },
    "language_info": {
      "name": "python"
    }
  },
  "cells": [
    {
      "cell_type": "markdown",
      "metadata": {
        "id": "view-in-github",
        "colab_type": "text"
      },
      "source": [
        "<a href=\"https://colab.research.google.com/github/mansueli/Supa-Migrate/blob/main/Migrate_Postgres_Supabase.ipynb\" target=\"_parent\"><img src=\"https://colab.research.google.com/assets/colab-badge.svg\" alt=\"Open In Colab\"/></a>"
      ]
    },
    {
      "cell_type": "markdown",
      "source": [
        "![Supabase](https://raw.githubusercontent.com/supabase/supabase/master/packages/common/assets/images/supabase-logo-wordmark--light.svg)\n",
        "\n"
      ],
      "metadata": {
        "id": "ygevkg_zCkmo"
      }
    },
    {
      "cell_type": "markdown",
      "source": [
        "## Setting the Environment variables:"
      ],
      "metadata": {
        "id": "LL4Furs6VliO"
      }
    },
    {
      "cell_type": "code",
      "source": [
        "%env PSQL_COMMAND=PGPASSWORD=RgaMDfTS_password_FTPa7 psql -h dpg-a_server_in.oregon-postgres.render.com -U my_db_pxl0_user my_db_pxl0\n",
        "%env SUPABASE_HOST=db.supa_nacho.supabase.co\n",
        "%env SUPABASE_PASSWORD=na98_SUP4N4ch0"
      ],
      "metadata": {
        "id": "_gS4xrZzVkl3"
      },
      "execution_count": null,
      "outputs": []
    },
    {
      "cell_type": "markdown",
      "source": [
        "## Installing PSQL, Downloading the scripts:"
      ],
      "metadata": {
        "id": "scZlpumHVbi6"
      }
    },
    {
      "cell_type": "code",
      "execution_count": null,
      "metadata": {
        "colab": {
          "base_uri": "https://localhost:8080/"
        },
        "id": "WqBSjmZxVOn1",
        "outputId": "90b304c8-954d-4e35-b79b-f1b8f1ed4554"
      },
      "outputs": [
        {
          "output_type": "stream",
          "name": "stdout",
          "text": [
            "OK\n"
          ]
        }
      ],
      "source": [
        "!sudo sh -c 'echo \"deb http://apt.postgresql.org/pub/repos/apt $(lsb_release -cs)-pgdg main\" > /etc/apt/sources.list.d/pgdg.list'\n",
        "!wget --quiet -O - https://www.postgresql.org/media/keys/ACCC4CF8.asc | sudo apt-key add -\n",
        "!sudo apt-get update &>log\n",
        "!sudo apt-get -y install postgresql &>log\n",
        "!wget https://raw.githubusercontent.com/mansueli/Supa-Migrate/main/migrate_postgres_project.sh &>log"
      ]
    },
    {
      "cell_type": "code",
      "source": [
        "!rm ./migrate_postgres_project.sh\n",
        "!rm ./log\n",
        "!rm ./dump.sql\n",
        "!wget https://raw.githubusercontent.com/mansueli/Supa-Migrate/main/migrate_postgres_project.sh &>log"
      ],
      "metadata": {
        "id": "bxeWPYvdOwK1"
      },
      "execution_count": null,
      "outputs": []
    },
    {
      "cell_type": "markdown",
      "source": [
        "## Running migration:"
      ],
      "metadata": {
        "id": "giay7Rs5WkqD"
      }
    },
    {
      "cell_type": "code",
      "source": [
        "# from supabase import create_client\n",
        "import os\n",
        "\n",
        "variables = os.environ['PSQL_COMMAND'].split(\" \")\n",
        "sender_db = variables[-1]\n",
        "print(sender_db)\n",
        "sender_user = variables[-2]\n",
        "sender_host = variables[-4]\n",
        "sender_pgpass = variables[0]\n",
        "filedata = ''\n",
        "with open('migrate_postgres_project.sh', 'r') as file :\n",
        "   filedata = file.read()\n",
        "   filedata = filedata.replace('POSTGRES_ORIGIN_USERNAME', sender_user)\n",
        "   filedata = filedata.replace('POSTGRES_ORIGIN_PASSWORD', sender_pgpass.replace(\"PGPASSWORD=\",\"\"))\n",
        "   filedata = filedata.replace('POSTGRES_ORIGIN_DATABASE', sender_db)\n",
        "   filedata = filedata.replace('POSTGRES_ORIGIN_HOST', sender_host)\n",
        "   filedata = filedata.replace('SUPABASE_HOST', os.environ['SUPABASE_HOST'])\n",
        "   filedata = filedata.replace('SUPABASE_PASSWORD', os.environ['SUPABASE_PASSWORD'])\n",
        "\n",
        "with open('migrate_postgres_project.sh', 'w') as file:\n",
        "   file.write(filedata)\n",
        "\n",
        "!bash ./migrate_postgres_project.sh #&>log\n",
        "print(\"Migration completed\")"
      ],
      "metadata": {
        "id": "hx7WV0riVyF5"
      },
      "execution_count": null,
      "outputs": []
    }
  ]
}